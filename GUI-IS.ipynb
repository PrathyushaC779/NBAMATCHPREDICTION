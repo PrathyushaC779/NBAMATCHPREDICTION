{
 "cells": [
  {
   "cell_type": "code",
   "execution_count": 29,
   "id": "2f2cf2f0",
   "metadata": {},
   "outputs": [
    {
     "name": "stderr",
     "output_type": "stream",
     "text": [
      "/opt/anaconda3/lib/python3.8/site-packages/sklearn/base.py:420: UserWarning: X does not have valid feature names, but RandomForestClassifier was fitted with feature names\n",
      "  warnings.warn(\n"
     ]
    }
   ],
   "source": [
    "import tkinter as tk\n",
    "import pandas as pd\n",
    "from sklearn.ensemble import RandomForestClassifier\n",
    "\n",
    "# Load NBA data\n",
    "data = pd.read_csv('/Users/prathyushachelemella/Desktop/games.csv')\n",
    "\n",
    "# Preprocessing\n",
    "X = data[['HOME_TEAM_ID', 'VISITOR_TEAM_ID', 'SEASON']]\n",
    "y = data['HOME_TEAM_WINS']\n",
    "clf = RandomForestClassifier()\n",
    "clf.fit(X, y)\n",
    "\n",
    "# Create tkinter GUI\n",
    "root = tk.Tk()\n",
    "root.title(\"NBA Match Predictor\")\n",
    "\n",
    "# Labels and input fields\n",
    "home_win_label = tk.Label(root, text=\"HOME_TEAM_ID\")\n",
    "home_win_label.grid(row=0, column=0)\n",
    "home_win_input = tk.Entry(root)\n",
    "home_win_input.grid(row=0, column=1)\n",
    "\n",
    "away_win_label = tk.Label(root, text=\"VISITOR_TEAM_ID\")\n",
    "away_win_label.grid(row=1, column=0)\n",
    "away_win_input = tk.Entry(root)\n",
    "away_win_input.grid(row=1, column=1)\n",
    "\n",
    "home_season_win_label = tk.Label(root, text=\"SEASON\")\n",
    "home_season_win_label.grid(row=2, column=0)\n",
    "home_season_win_input = tk.Entry(root)\n",
    "home_season_win_input.grid(row=2, column=1)\n",
    "\n",
    "# Prediction function\n",
    "def predict():\n",
    "    # Get input values\n",
    "    home_win = float(home_win_input.get())\n",
    "    away_win = float(away_win_input.get())\n",
    "    home_season_win = float(home_season_win_input.get())\n",
    "\n",
    "    # Predict using random forest\n",
    "    X_pred = [[home_win, away_win, home_season_win]]\n",
    "    y_pred = clf.predict(X_pred)\n",
    "\n",
    "    # Show prediction result\n",
    "    if y_pred[0] == 1:\n",
    "        result_label.config(text=\"Home Team Wins!\")\n",
    "    else:\n",
    "        result_label.config(text=\"Away Team Wins!\")\n",
    "\n",
    "# Button to predict\n",
    "predict_button = tk.Button(root, text=\"Predict\", command=predict)\n",
    "predict_button.grid(row=4, column=0)\n",
    "\n",
    "# Label to show result\n",
    "result_label = tk.Label(root, text=\"\")\n",
    "result_label.grid(row=4, column=1)\n",
    "\n",
    "root.mainloop()\n"
   ]
  },
  {
   "cell_type": "code",
   "execution_count": null,
   "id": "869e0d46",
   "metadata": {},
   "outputs": [],
   "source": []
  },
  {
   "cell_type": "code",
   "execution_count": null,
   "id": "87bfeb08",
   "metadata": {},
   "outputs": [],
   "source": []
  }
 ],
 "metadata": {
  "kernelspec": {
   "display_name": "Python 3",
   "language": "python",
   "name": "python3"
  },
  "language_info": {
   "codemirror_mode": {
    "name": "ipython",
    "version": 3
   },
   "file_extension": ".py",
   "mimetype": "text/x-python",
   "name": "python",
   "nbconvert_exporter": "python",
   "pygments_lexer": "ipython3",
   "version": "3.8.8"
  }
 },
 "nbformat": 4,
 "nbformat_minor": 5
}
